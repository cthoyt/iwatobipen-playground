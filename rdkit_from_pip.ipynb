{
  "nbformat": 4,
  "nbformat_minor": 0,
  "metadata": {
    "colab": {
      "name": "rdkit_from_pip.ipynb",
      "provenance": [],
      "authorship_tag": "ABX9TyOkIGqB2szLqktrQSWpm2SO",
      "include_colab_link": true
    },
    "kernelspec": {
      "name": "python3",
      "display_name": "Python 3"
    },
    "language_info": {
      "name": "python"
    }
  },
  "cells": [
    {
      "cell_type": "markdown",
      "metadata": {
        "id": "view-in-github",
        "colab_type": "text"
      },
      "source": [
        "<a href=\"https://colab.research.google.com/github/iwatobipen/playground/blob/master/rdkit_from_pip.ipynb\" target=\"_parent\"><img src=\"https://colab.research.google.com/assets/colab-badge.svg\" alt=\"Open In Colab\"/></a>"
      ]
    },
    {
      "cell_type": "code",
      "metadata": {
        "colab": {
          "base_uri": "https://localhost:8080/",
          "height": 35
        },
        "id": "XKMbmVO6NOfL",
        "outputId": "55cb099f-06e4-492b-d947-612194a723a7"
      },
      "source": [
        "import sys\n",
        "sys.version"
      ],
      "execution_count": 1,
      "outputs": [
        {
          "output_type": "execute_result",
          "data": {
            "application/vnd.google.colaboratory.intrinsic+json": {
              "type": "string"
            },
            "text/plain": [
              "'3.7.10 (default, May  3 2021, 02:48:31) \\n[GCC 7.5.0]'"
            ]
          },
          "metadata": {
            "tags": []
          },
          "execution_count": 1
        }
      ]
    },
    {
      "cell_type": "code",
      "metadata": {
        "colab": {
          "base_uri": "https://localhost:8080/"
        },
        "id": "Bmb6EZuLNW_q",
        "outputId": "bab5f44a-7aa1-4a6a-ac85-bdf7843f4363"
      },
      "source": [
        "!time pip install rdkit-pypi"
      ],
      "execution_count": 2,
      "outputs": [
        {
          "output_type": "stream",
          "text": [
            "Requirement already satisfied: rdkit-pypi in /usr/local/lib/python3.7/dist-packages (2021.3.2.1)\n",
            "Requirement already satisfied: numpy>=1.19 in /usr/local/lib/python3.7/dist-packages (from rdkit-pypi) (1.19.5)\n",
            "\n",
            "real\t0m2.674s\n",
            "user\t0m2.497s\n",
            "sys\t0m0.146s\n"
          ],
          "name": "stdout"
        }
      ]
    },
    {
      "cell_type": "code",
      "metadata": {
        "id": "tNrKgoU-NiQp"
      },
      "source": [
        "from rdkit import Chem\n",
        "from rdkit.Chem import rdBase\n",
        "from rdkit.Chem import Draw\n",
        "from rdkit.Chem.Draw import IPythonConsole"
      ],
      "execution_count": 3,
      "outputs": []
    },
    {
      "cell_type": "code",
      "metadata": {
        "colab": {
          "base_uri": "https://localhost:8080/"
        },
        "id": "yTBDI6CkN8Q1",
        "outputId": "b9ded70b-205c-4af0-df97-6a89a8773b8f"
      },
      "source": [
        "print(rdBase.rdkitVersion)"
      ],
      "execution_count": 4,
      "outputs": [
        {
          "output_type": "stream",
          "text": [
            "2021.03.2\n"
          ],
          "name": "stdout"
        }
      ]
    },
    {
      "cell_type": "code",
      "metadata": {
        "colab": {
          "base_uri": "https://localhost:8080/",
          "height": 167
        },
        "id": "ZV_Sp3jsN-ti",
        "outputId": "7952381a-898e-417b-eaa8-faf7cd56e9a2"
      },
      "source": [
        "mol = Chem.MolFromSmiles('C1COCC1')\n",
        "mol"
      ],
      "execution_count": 5,
      "outputs": [
        {
          "output_type": "execute_result",
          "data": {
            "image/png": "[encoded data removed]",
            "text/plain": [
              "<rdkit.Chem.rdchem.Mol at 0x7f384b8ca990>"
            ]
          },
          "metadata": {
            "tags": []
          },
          "execution_count": 5
        }
      ]
    },
    {
      "cell_type": "code",
      "metadata": {
        "id": "oVPEmu2yOHQD"
      },
      "source": [
        ""
      ],
      "execution_count": 5,
      "outputs": []
    }
  ]
}